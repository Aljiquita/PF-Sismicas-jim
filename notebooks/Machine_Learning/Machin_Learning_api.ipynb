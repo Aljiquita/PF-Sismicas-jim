{
 "cells": [
  {
   "cell_type": "code",
   "execution_count": 14,
   "metadata": {},
   "outputs": [],
   "source": [
    "import os\n",
    "from google.cloud import bigquery\n",
    "from google.auth import default\n",
    "import pandas as pd\n",
    "import numpy as np\n",
    "import math\n",
    "import seaborn as sns\n",
    "\n",
    "# Creamos los permisos con la llave para ingresar a Google \n",
    "# activamos el servicio\n",
    "os.environ[\"GOOGLE_APPLICATION_CREDENTIALS\"] = \"../Clave_Google/henry-sismos-jim-ba6d099b0f8f.json\"\n",
    "\n",
    "project_id = 'your-project-id'\n",
    "client = bigquery.Client(project=project_id)"
   ]
  },
  {
   "cell_type": "code",
   "execution_count": 15,
   "metadata": {},
   "outputs": [
    {
     "name": "stdout",
     "output_type": "stream",
     "text": [
      "sismos-henry@henry-sismos-jim.iam.gserviceaccount.com\n"
     ]
    }
   ],
   "source": [
    "\n",
    "# Obtiene las credenciales predeterminadas\n",
    "credentials, project_id = default()\n",
    "\n",
    "# Obtiene el correo electrónico del usuario autenticado\n",
    "user_email = credentials.service_account_email\n",
    "\n",
    "print(user_email)"
   ]
  },
  {
   "cell_type": "code",
   "execution_count": 16,
   "metadata": {},
   "outputs": [
    {
     "data": {
      "text/plain": [
       "['henry-sismos-jim']"
      ]
     },
     "execution_count": 16,
     "metadata": {},
     "output_type": "execute_result"
    }
   ],
   "source": [
    "\n",
    "# Crea una instancia del cliente de BigQuery\n",
    "client = bigquery.Client()\n",
    "\n",
    "# Obtiene la lista de proyectos del usuario autenticado\n",
    "projects = client.list_projects()\n",
    "\n",
    "# Imprime los nombres de los proyectos\n",
    "project_ids = []\n",
    "for project in projects:\n",
    "    project_ids.append(project.project_id) \n",
    "project_ids"
   ]
  },
  {
   "cell_type": "code",
   "execution_count": 17,
   "metadata": {},
   "outputs": [
    {
     "data": {
      "text/plain": [
       "['Sismos']"
      ]
     },
     "execution_count": 17,
     "metadata": {},
     "output_type": "execute_result"
    }
   ],
   "source": [
    "# Crea una instancia del cliente de BigQuery\n",
    "client = bigquery.Client()\n",
    "\n",
    "# Especifica el ID del proyecto\n",
    "project_id = project_ids[0]\n",
    "\n",
    "\n",
    "# Obtiene la lista de conjuntos de datos en el proyecto\n",
    "datasets = client.list_datasets(project=project_id)\n",
    "\n",
    "# Imprime los nombres de los conjuntos de datos\n",
    "dataset_ids = []\n",
    "for dataset in datasets:\n",
    "    dataset_ids.append(dataset.dataset_id)\n",
    "dataset_ids"
   ]
  },
  {
   "cell_type": "code",
   "execution_count": 18,
   "metadata": {},
   "outputs": [
    {
     "data": {
      "text/plain": [
       "['Colombia', 'Colombia_sismo', 'EEUU_sismo', 'Japan_sismo']"
      ]
     },
     "execution_count": 18,
     "metadata": {},
     "output_type": "execute_result"
    }
   ],
   "source": [
    "\n",
    "# Crea una instancia del cliente de BigQuery\n",
    "client = bigquery.Client(project=project_id)\n",
    "\n",
    "# Obtiene la referencia al conjunto de datos\n",
    "dataset_ref = client.dataset(dataset_ids[0])\n",
    "\n",
    "# Obtiene el conjunto de datos\n",
    "dataset = client.get_dataset(dataset_ref)\n",
    "\n",
    "# Obtiene la lista de tablas en el conjunto de datos\n",
    "tables = client.list_tables(dataset)\n",
    "\n",
    "# Imprime los nombres de las tablas\n",
    "\n",
    "table_ids = []\n",
    "for table in tables:\n",
    "    table_ids.append(table.table_id)\n",
    "table_ids"
   ]
  },
  {
   "cell_type": "code",
   "execution_count": 19,
   "metadata": {},
   "outputs": [
    {
     "name": "stdout",
     "output_type": "stream",
     "text": [
      "Creado el DataFrame de Colombia_sismo\n",
      "<class 'pandas.core.frame.DataFrame'>\n",
      "RangeIndex: 404 entries, 0 to 403\n",
      "Data columns (total 12 columns):\n",
      " #   Column      Non-Null Count  Dtype              \n",
      "---  ------      --------------  -----              \n",
      " 0   Fecha       404 non-null    datetime64[ns, UTC]\n",
      " 1   Magnitud    404 non-null    float64            \n",
      " 2   Intensidad  404 non-null    float64            \n",
      " 3   GAP         404 non-null    float64            \n",
      " 4   Latitud     404 non-null    float64            \n",
      " 5   Longitud    404 non-null    float64            \n",
      " 6   Hipocentro  404 non-null    float64            \n",
      " 7   Lugar       404 non-null    object             \n",
      " 8   Id          404 non-null    object             \n",
      " 9   Region      404 non-null    object             \n",
      " 10  Pais        404 non-null    object             \n",
      " 11  Act         404 non-null    datetime64[ns, UTC]\n",
      "dtypes: datetime64[ns, UTC](2), float64(6), object(4)\n",
      "memory usage: 38.0+ KB\n",
      "None\n"
     ]
    },
    {
     "data": {
      "text/html": [
       "<div>\n",
       "<style scoped>\n",
       "    .dataframe tbody tr th:only-of-type {\n",
       "        vertical-align: middle;\n",
       "    }\n",
       "\n",
       "    .dataframe tbody tr th {\n",
       "        vertical-align: top;\n",
       "    }\n",
       "\n",
       "    .dataframe thead th {\n",
       "        text-align: right;\n",
       "    }\n",
       "</style>\n",
       "<table border=\"1\" class=\"dataframe\">\n",
       "  <thead>\n",
       "    <tr style=\"text-align: right;\">\n",
       "      <th></th>\n",
       "      <th>Fecha</th>\n",
       "      <th>Magnitud</th>\n",
       "      <th>Intensidad</th>\n",
       "      <th>GAP</th>\n",
       "      <th>Latitud</th>\n",
       "      <th>Longitud</th>\n",
       "      <th>Hipocentro</th>\n",
       "      <th>Lugar</th>\n",
       "      <th>Id</th>\n",
       "      <th>Region</th>\n",
       "      <th>Pais</th>\n",
       "      <th>Act</th>\n",
       "    </tr>\n",
       "  </thead>\n",
       "  <tbody>\n",
       "    <tr>\n",
       "      <th>0</th>\n",
       "      <td>2019-05-12 07:28:08.579000+00:00</td>\n",
       "      <td>4.5</td>\n",
       "      <td>4.3</td>\n",
       "      <td>65.0</td>\n",
       "      <td>3.9341</td>\n",
       "      <td>-73.9292</td>\n",
       "      <td>10.00</td>\n",
       "      <td>18 km NNW of Cubarral, Colombia</td>\n",
       "      <td>,us70003jzm,</td>\n",
       "      <td>Meta</td>\n",
       "      <td>CO</td>\n",
       "      <td>2023-07-15 00:00:00+00:00</td>\n",
       "    </tr>\n",
       "    <tr>\n",
       "      <th>1</th>\n",
       "      <td>2016-12-16 19:45:20.340000+00:00</td>\n",
       "      <td>4.5</td>\n",
       "      <td>2.0</td>\n",
       "      <td>65.0</td>\n",
       "      <td>3.3938</td>\n",
       "      <td>-74.2744</td>\n",
       "      <td>61.75</td>\n",
       "      <td>25 km W of Mesetas, Colombia</td>\n",
       "      <td>,us200081nl,</td>\n",
       "      <td>Meta</td>\n",
       "      <td>CO</td>\n",
       "      <td>2023-07-15 00:00:00+00:00</td>\n",
       "    </tr>\n",
       "  </tbody>\n",
       "</table>\n",
       "</div>"
      ],
      "text/plain": [
       "                             Fecha  Magnitud  Intensidad   GAP  Latitud   \n",
       "0 2019-05-12 07:28:08.579000+00:00       4.5         4.3  65.0   3.9341  \\\n",
       "1 2016-12-16 19:45:20.340000+00:00       4.5         2.0  65.0   3.3938   \n",
       "\n",
       "   Longitud  Hipocentro                            Lugar            Id Region   \n",
       "0  -73.9292       10.00  18 km NNW of Cubarral, Colombia  ,us70003jzm,   Meta  \\\n",
       "1  -74.2744       61.75     25 km W of Mesetas, Colombia  ,us200081nl,   Meta   \n",
       "\n",
       "  Pais                       Act  \n",
       "0   CO 2023-07-15 00:00:00+00:00  \n",
       "1   CO 2023-07-15 00:00:00+00:00  "
      ]
     },
     "execution_count": 19,
     "metadata": {},
     "output_type": "execute_result"
    }
   ],
   "source": [
    "# Creamos el DataFrame de  df_Colombia_sismo\n",
    "# Crea una instancia del cliente de BigQuery\n",
    "client = bigquery.Client(project= project_ids[0])\n",
    "\n",
    "# Especifica el ID del dataset\n",
    "dataset_id = dataset_ids[0]\n",
    "\n",
    "\n",
    "table_ref = dataset_ref.table(table_ids[1])\n",
    "# Descarga la tabla en un DataFrame\n",
    "table = client.get_table(table_ref)\n",
    "df_Colombia_sismo = client.list_rows(table).to_dataframe()\n",
    "            \n",
    "# Imprime las primeras filas del DataFrame\n",
    "print(f\"Creado el DataFrame de {table_ids[1]}\")\n",
    "print(df_Colombia_sismo.info())\n",
    "df_Colombia_sismo.head(2)\n"
   ]
  },
  {
   "cell_type": "code",
   "execution_count": 20,
   "metadata": {},
   "outputs": [
    {
     "name": "stdout",
     "output_type": "stream",
     "text": [
      "Creado el DataFrame de EEUU_sismo\n",
      "<class 'pandas.core.frame.DataFrame'>\n",
      "RangeIndex: 15024 entries, 0 to 15023\n",
      "Data columns (total 12 columns):\n",
      " #   Column      Non-Null Count  Dtype              \n",
      "---  ------      --------------  -----              \n",
      " 0   Fecha       15024 non-null  datetime64[ns, UTC]\n",
      " 1   Magnitud    15024 non-null  float64            \n",
      " 2   Intensidad  15024 non-null  float64            \n",
      " 3   GAP         15024 non-null  float64            \n",
      " 4   Latitud     15024 non-null  float64            \n",
      " 5   Longitud    15024 non-null  float64            \n",
      " 6   Hipocentro  15024 non-null  float64            \n",
      " 7   Lugar       15024 non-null  object             \n",
      " 8   Id          15024 non-null  object             \n",
      " 9   Region      15024 non-null  object             \n",
      " 10  Pais        15024 non-null  object             \n",
      " 11  Act         15024 non-null  datetime64[ns, UTC]\n",
      "dtypes: datetime64[ns, UTC](2), float64(6), object(4)\n",
      "memory usage: 1.4+ MB\n",
      "None\n"
     ]
    },
    {
     "data": {
      "text/html": [
       "<div>\n",
       "<style scoped>\n",
       "    .dataframe tbody tr th:only-of-type {\n",
       "        vertical-align: middle;\n",
       "    }\n",
       "\n",
       "    .dataframe tbody tr th {\n",
       "        vertical-align: top;\n",
       "    }\n",
       "\n",
       "    .dataframe thead th {\n",
       "        text-align: right;\n",
       "    }\n",
       "</style>\n",
       "<table border=\"1\" class=\"dataframe\">\n",
       "  <thead>\n",
       "    <tr style=\"text-align: right;\">\n",
       "      <th></th>\n",
       "      <th>Fecha</th>\n",
       "      <th>Magnitud</th>\n",
       "      <th>Intensidad</th>\n",
       "      <th>GAP</th>\n",
       "      <th>Latitud</th>\n",
       "      <th>Longitud</th>\n",
       "      <th>Hipocentro</th>\n",
       "      <th>Lugar</th>\n",
       "      <th>Id</th>\n",
       "      <th>Region</th>\n",
       "      <th>Pais</th>\n",
       "      <th>Act</th>\n",
       "    </tr>\n",
       "  </thead>\n",
       "  <tbody>\n",
       "    <tr>\n",
       "      <th>0</th>\n",
       "      <td>2017-11-28 12:37:04.300000+00:00</td>\n",
       "      <td>2.70</td>\n",
       "      <td>0.0</td>\n",
       "      <td>25.0</td>\n",
       "      <td>36.291300</td>\n",
       "      <td>-97.510600</td>\n",
       "      <td>6.061</td>\n",
       "      <td>5 km WNW of Lucien, Oklahoma</td>\n",
       "      <td>,us2000bvcp,</td>\n",
       "      <td>Oklahoma</td>\n",
       "      <td>US</td>\n",
       "      <td>2023-07-15 00:00:00+00:00</td>\n",
       "    </tr>\n",
       "    <tr>\n",
       "      <th>1</th>\n",
       "      <td>2017-05-30 13:39:56.150000+00:00</td>\n",
       "      <td>2.51</td>\n",
       "      <td>0.0</td>\n",
       "      <td>25.0</td>\n",
       "      <td>38.825667</td>\n",
       "      <td>-122.781167</td>\n",
       "      <td>1.880</td>\n",
       "      <td>5 km W of Cobb, California</td>\n",
       "      <td>,nc72808261,</td>\n",
       "      <td>California</td>\n",
       "      <td>US</td>\n",
       "      <td>2023-07-15 00:00:00+00:00</td>\n",
       "    </tr>\n",
       "  </tbody>\n",
       "</table>\n",
       "</div>"
      ],
      "text/plain": [
       "                             Fecha  Magnitud  Intensidad   GAP    Latitud   \n",
       "0 2017-11-28 12:37:04.300000+00:00      2.70         0.0  25.0  36.291300  \\\n",
       "1 2017-05-30 13:39:56.150000+00:00      2.51         0.0  25.0  38.825667   \n",
       "\n",
       "     Longitud  Hipocentro                         Lugar            Id   \n",
       "0  -97.510600       6.061  5 km WNW of Lucien, Oklahoma  ,us2000bvcp,  \\\n",
       "1 -122.781167       1.880    5 km W of Cobb, California  ,nc72808261,   \n",
       "\n",
       "       Region Pais                       Act  \n",
       "0    Oklahoma   US 2023-07-15 00:00:00+00:00  \n",
       "1  California   US 2023-07-15 00:00:00+00:00  "
      ]
     },
     "execution_count": 20,
     "metadata": {},
     "output_type": "execute_result"
    }
   ],
   "source": [
    "# Creamos el DataFrame de  df_EEUU_sismo\n",
    "# Crea una instancia del cliente de BigQuery\n",
    "client = bigquery.Client(project= project_ids[0])\n",
    "\n",
    "# Especifica el ID del dataset\n",
    "dataset_id = dataset_ids[0]\n",
    "\n",
    "\n",
    "table_ref = dataset_ref.table(table_ids[2])\n",
    "# Descarga la tabla en un DataFrame\n",
    "table = client.get_table(table_ref)\n",
    "df_EEUU_sismo = client.list_rows(table).to_dataframe()\n",
    "            \n",
    "# Imprime las primeras filas del DataFrame\n",
    "print(f\"Creado el DataFrame de {table_ids[2]}\")\n",
    "print(df_EEUU_sismo.info())\n",
    "df_EEUU_sismo.head(2)\n"
   ]
  },
  {
   "cell_type": "code",
   "execution_count": 21,
   "metadata": {},
   "outputs": [
    {
     "name": "stdout",
     "output_type": "stream",
     "text": [
      "Creado el DataFrame de Japan_sismo\n",
      "<class 'pandas.core.frame.DataFrame'>\n",
      "RangeIndex: 3057 entries, 0 to 3056\n",
      "Data columns (total 12 columns):\n",
      " #   Column      Non-Null Count  Dtype              \n",
      "---  ------      --------------  -----              \n",
      " 0   Fecha       3057 non-null   datetime64[ns, UTC]\n",
      " 1   Magnitud    3057 non-null   float64            \n",
      " 2   Intensidad  3057 non-null   float64            \n",
      " 3   GAP         3057 non-null   float64            \n",
      " 4   Latitud     3057 non-null   float64            \n",
      " 5   Longitud    3057 non-null   float64            \n",
      " 6   Hipocentro  3057 non-null   float64            \n",
      " 7   Lugar       3057 non-null   object             \n",
      " 8   Id          3057 non-null   object             \n",
      " 9   Region      3057 non-null   object             \n",
      " 10  Pais        3057 non-null   object             \n",
      " 11  Act         3057 non-null   datetime64[ns, UTC]\n",
      "dtypes: datetime64[ns, UTC](2), float64(6), object(4)\n",
      "memory usage: 286.7+ KB\n",
      "None\n"
     ]
    },
    {
     "data": {
      "text/html": [
       "<div>\n",
       "<style scoped>\n",
       "    .dataframe tbody tr th:only-of-type {\n",
       "        vertical-align: middle;\n",
       "    }\n",
       "\n",
       "    .dataframe tbody tr th {\n",
       "        vertical-align: top;\n",
       "    }\n",
       "\n",
       "    .dataframe thead th {\n",
       "        text-align: right;\n",
       "    }\n",
       "</style>\n",
       "<table border=\"1\" class=\"dataframe\">\n",
       "  <thead>\n",
       "    <tr style=\"text-align: right;\">\n",
       "      <th></th>\n",
       "      <th>Fecha</th>\n",
       "      <th>Magnitud</th>\n",
       "      <th>Intensidad</th>\n",
       "      <th>GAP</th>\n",
       "      <th>Latitud</th>\n",
       "      <th>Longitud</th>\n",
       "      <th>Hipocentro</th>\n",
       "      <th>Lugar</th>\n",
       "      <th>Id</th>\n",
       "      <th>Region</th>\n",
       "      <th>Pais</th>\n",
       "      <th>Act</th>\n",
       "    </tr>\n",
       "  </thead>\n",
       "  <tbody>\n",
       "    <tr>\n",
       "      <th>0</th>\n",
       "      <td>2018-09-23 21:33:42.240000+00:00</td>\n",
       "      <td>4.0</td>\n",
       "      <td>2.7</td>\n",
       "      <td>85.0</td>\n",
       "      <td>33.8390</td>\n",
       "      <td>136.6885</td>\n",
       "      <td>377.30</td>\n",
       "      <td>51 km ESE of Owase, Japan</td>\n",
       "      <td>,us2000hj4d,</td>\n",
       "      <td>Mie</td>\n",
       "      <td>JP</td>\n",
       "      <td>2023-07-15 00:00:00+00:00</td>\n",
       "    </tr>\n",
       "    <tr>\n",
       "      <th>1</th>\n",
       "      <td>2014-10-06 12:06:29.220000+00:00</td>\n",
       "      <td>4.0</td>\n",
       "      <td>1.0</td>\n",
       "      <td>72.0</td>\n",
       "      <td>34.0985</td>\n",
       "      <td>136.8656</td>\n",
       "      <td>353.72</td>\n",
       "      <td>42 km S of Toba, Japan</td>\n",
       "      <td>,usb000snct,</td>\n",
       "      <td>Mie</td>\n",
       "      <td>JP</td>\n",
       "      <td>2023-07-15 00:00:00+00:00</td>\n",
       "    </tr>\n",
       "  </tbody>\n",
       "</table>\n",
       "</div>"
      ],
      "text/plain": [
       "                             Fecha  Magnitud  Intensidad   GAP  Latitud   \n",
       "0 2018-09-23 21:33:42.240000+00:00       4.0         2.7  85.0  33.8390  \\\n",
       "1 2014-10-06 12:06:29.220000+00:00       4.0         1.0  72.0  34.0985   \n",
       "\n",
       "   Longitud  Hipocentro                      Lugar            Id Region Pais   \n",
       "0  136.6885      377.30  51 km ESE of Owase, Japan  ,us2000hj4d,    Mie   JP  \\\n",
       "1  136.8656      353.72     42 km S of Toba, Japan  ,usb000snct,    Mie   JP   \n",
       "\n",
       "                        Act  \n",
       "0 2023-07-15 00:00:00+00:00  \n",
       "1 2023-07-15 00:00:00+00:00  "
      ]
     },
     "execution_count": 21,
     "metadata": {},
     "output_type": "execute_result"
    }
   ],
   "source": [
    "# Creamos el DataFrame de  df_Japan_sismo\n",
    "# Crea una instancia del cliente de BigQuery\n",
    "client = bigquery.Client(project= project_ids[0])\n",
    "\n",
    "# Especifica el ID del dataset\n",
    "dataset_id = dataset_ids[0]\n",
    "\n",
    "\n",
    "table_ref = dataset_ref.table(table_ids[3])\n",
    "\n",
    "\n",
    "# Descarga la tabla en un DataFrame\n",
    "table = client.get_table(table_ref)\n",
    "df_Japan_sismo = client.list_rows(table).to_dataframe()\n",
    "            \n",
    "# Imprime las primeras filas del DataFrame\n",
    "print(f\"Creado el DataFrame de {table_ids[3]}\")\n",
    "print(df_Japan_sismo.info())\n",
    "df_Japan_sismo.head(2)\n"
   ]
  },
  {
   "cell_type": "code",
   "execution_count": 22,
   "metadata": {},
   "outputs": [
    {
     "name": "stdout",
     "output_type": "stream",
     "text": [
      "<class 'pandas.core.frame.DataFrame'>\n",
      "RangeIndex: 18485 entries, 0 to 18484\n",
      "Data columns (total 6 columns):\n",
      " #   Column      Non-Null Count  Dtype  \n",
      "---  ------      --------------  -----  \n",
      " 0   Magnitud    18485 non-null  float64\n",
      " 1   Intensidad  18485 non-null  float64\n",
      " 2   GAP         18485 non-null  float64\n",
      " 3   Latitud     18485 non-null  float64\n",
      " 4   Longitud    18485 non-null  float64\n",
      " 5   Hipocentro  18485 non-null  float64\n",
      "dtypes: float64(6)\n",
      "memory usage: 866.6 KB\n",
      "None\n"
     ]
    },
    {
     "data": {
      "text/html": [
       "<div>\n",
       "<style scoped>\n",
       "    .dataframe tbody tr th:only-of-type {\n",
       "        vertical-align: middle;\n",
       "    }\n",
       "\n",
       "    .dataframe tbody tr th {\n",
       "        vertical-align: top;\n",
       "    }\n",
       "\n",
       "    .dataframe thead th {\n",
       "        text-align: right;\n",
       "    }\n",
       "</style>\n",
       "<table border=\"1\" class=\"dataframe\">\n",
       "  <thead>\n",
       "    <tr style=\"text-align: right;\">\n",
       "      <th></th>\n",
       "      <th>Magnitud</th>\n",
       "      <th>Intensidad</th>\n",
       "      <th>GAP</th>\n",
       "      <th>Latitud</th>\n",
       "      <th>Longitud</th>\n",
       "      <th>Hipocentro</th>\n",
       "    </tr>\n",
       "  </thead>\n",
       "  <tbody>\n",
       "    <tr>\n",
       "      <th>0</th>\n",
       "      <td>4.5</td>\n",
       "      <td>4.3</td>\n",
       "      <td>65.0</td>\n",
       "      <td>3.9341</td>\n",
       "      <td>-73.9292</td>\n",
       "      <td>10.00</td>\n",
       "    </tr>\n",
       "    <tr>\n",
       "      <th>1</th>\n",
       "      <td>4.5</td>\n",
       "      <td>2.0</td>\n",
       "      <td>65.0</td>\n",
       "      <td>3.3938</td>\n",
       "      <td>-74.2744</td>\n",
       "      <td>61.75</td>\n",
       "    </tr>\n",
       "    <tr>\n",
       "      <th>2</th>\n",
       "      <td>5.0</td>\n",
       "      <td>2.0</td>\n",
       "      <td>31.0</td>\n",
       "      <td>3.9157</td>\n",
       "      <td>-71.3594</td>\n",
       "      <td>10.00</td>\n",
       "    </tr>\n",
       "    <tr>\n",
       "      <th>3</th>\n",
       "      <td>5.0</td>\n",
       "      <td>4.3</td>\n",
       "      <td>65.0</td>\n",
       "      <td>3.4190</td>\n",
       "      <td>-73.9867</td>\n",
       "      <td>10.00</td>\n",
       "    </tr>\n",
       "    <tr>\n",
       "      <th>4</th>\n",
       "      <td>6.0</td>\n",
       "      <td>6.7</td>\n",
       "      <td>36.0</td>\n",
       "      <td>3.5359</td>\n",
       "      <td>-74.0176</td>\n",
       "      <td>11.00</td>\n",
       "    </tr>\n",
       "  </tbody>\n",
       "</table>\n",
       "</div>"
      ],
      "text/plain": [
       "   Magnitud  Intensidad   GAP  Latitud  Longitud  Hipocentro\n",
       "0       4.5         4.3  65.0   3.9341  -73.9292       10.00\n",
       "1       4.5         2.0  65.0   3.3938  -74.2744       61.75\n",
       "2       5.0         2.0  31.0   3.9157  -71.3594       10.00\n",
       "3       5.0         4.3  65.0   3.4190  -73.9867       10.00\n",
       "4       6.0         6.7  36.0   3.5359  -74.0176       11.00"
      ]
     },
     "execution_count": 22,
     "metadata": {},
     "output_type": "execute_result"
    }
   ],
   "source": [
    "# Unificamos la data y ordenamos por fecha\n",
    "df_paises_sismos = pd.concat([df_Colombia_sismo, df_Japan_sismo, df_EEUU_sismo], ignore_index=True)\n",
    "\n",
    "# se dejan las columnas con rangos numericos\n",
    "\n",
    "df_paises_sismos = df_paises_sismos.drop([ \"Lugar\", \"Fecha\",  \"Id\", \"Region\", \"Pais\", \"Act\"], axis= 1)\n",
    "\n",
    "# Ajustamos el GAP de 0 a 180 grados\n",
    "df_paises_sismos[\"GAP\"] =  df_paises_sismos[\"GAP\"].apply(lambda x: x if x <= 180 else 360 - x)\n",
    "\n",
    "# Mostramos el resultado\n",
    "print(df_paises_sismos.info())\n",
    "df_paises_sismos.head(5)\n",
    "\n",
    "\n"
   ]
  },
  {
   "cell_type": "markdown",
   "metadata": {},
   "source": [
    "### 1- Categorizamos en una nueva columna llamada \"Niv-Inten\", los valores de la columnas \"Intensidad\""
   ]
  },
  {
   "cell_type": "markdown",
   "metadata": {},
   "source": [
    "### Magnitud\n",
    "La escala de Richter agrupa los sismos en diferentes categorías o niveles de intensidad basados en la amplitud de las ondas sísmicas registradas en una estación sísmica específica. A continuación, se muestra una clasificación general de la escala de Richter:<br><br>\n",
    "\n",
    "Menos de 2.0: Generalmente no se percibe, excepto en condiciones muy favorables.\n",
    "2.0 a 3.9: A menudo se percibe, pero rara vez causa daños.\n",
    "4.0 a 4.9: Se siente como un temblor de vibración menor, similar a la de un camión que pasa. Raramente causa daños.\n",
    "5.0 a 5.9: Puede causar daños significativos en edificios y estructuras mal construidas en áreas pobladas.\n",
    "6.0 a 6.9: Puede causar una gran cantidad de daños en áreas habitadas en un rango de hasta unos 160 kilómetros alrededor del epicentro.\n",
    "7.0 a 7.9: Puede causar daños graves en áreas más grandes.\n",
    "8.0 o superior: Un terremoto de esta magnitud puede causar daños devastadores en áreas extensas."
   ]
  },
  {
   "cell_type": "markdown",
   "metadata": {},
   "source": [
    "La categorización real de la escala de Intensidad es:<br><br>\n",
    "\n",
    "I. No se siente.<br>\n",
    "II. Se siente solo por unas pocas personas en reposo y en posición tranquila.<br>\n",
    "III. Se siente dentro de los edificios, especialmente en los pisos superiores.<br>\n",
    "IV. Se siente como un camión pesado que pasa cerca o como una vibración similar al paso de un tren.<br>\n",
    "V. Se siente ampliamente en el área afectada. Los objetos colgantes pueden oscilar y se pueden escuchar ruidos.<br>\n",
    "VI. Se siente por todas las personas. Los objetos frágiles se rompen y se pueden producir grietas en las paredes.<br>\n",
    "VII. Daños menores en las estructuras, como grietas en los muros y caída de revestimientos.<br>\n",
    "VIII. Daños importantes en las estructuras, como colapso parcial de edificios y chimeneas.<br>\n",
    "IX. Daños severos en las estructuras, con colapso parcial generalizado.<br>\n",
    "X. Daños extensos en las estructuras, con colapso de muchos edificios.<br>\n",
    "XI. Daños de gran alcance, con colapso de la mayoría de los edificios.<br>\n",
    "XII. Daño total. Las estructuras se desploman y el terreno puede agrietarse y deformarse.<br>"
   ]
  },
  {
   "cell_type": "markdown",
   "metadata": {},
   "source": [
    "### 2- Clasificacion del GAP\n",
    "\n",
    "GAP < 30: Excelente<br>\n",
    "30 ≤ GAP < 60: Buena<br>\n",
    "60 ≤ GAP < 90: Razonable<br>\n",
    "90 ≤ GAP < 120: Pobre<br>\n",
    "GAP ≥ 120: Muy pobre<br>\n",
    "\n",
    "\n",
    "* Excelente: Cobertura angular óptima, alta precisión en la ubicación y estimación de la magnitud del terremoto.\n",
    "* Buena: Cobertura angular adecuada, buena precisión en la ubicación y estimación de la magnitud del terremoto.\n",
    "* Razonable: Cobertura angular aceptable, precisión razonable en la ubicación y estimación de la magnitud del terremoto.\n",
    "* Pobre: Cobertura angular deficiente, precisión reducida en la ubicación y estimación de la magnitud del terremoto.\n",
    "* Muy pobre: Cobertura angular muy deficiente, baja precisión en la ubicación y estimación de la magnitud del terremoto."
   ]
  },
  {
   "cell_type": "markdown",
   "metadata": {},
   "source": [
    "# Empezamos Trabajos de Machine Learning  "
   ]
  },
  {
   "cell_type": "markdown",
   "metadata": {},
   "source": [
    "kmins o dbscan"
   ]
  },
  {
   "cell_type": "markdown",
   "metadata": {},
   "source": [
    "### 1- Identificación de la data a trabajar"
   ]
  },
  {
   "cell_type": "code",
   "execution_count": 23,
   "metadata": {},
   "outputs": [
    {
     "name": "stdout",
     "output_type": "stream",
     "text": [
      "<class 'pandas.core.frame.DataFrame'>\n",
      "RangeIndex: 18485 entries, 0 to 18484\n",
      "Data columns (total 2 columns):\n",
      " #   Column      Non-Null Count  Dtype  \n",
      "---  ------      --------------  -----  \n",
      " 0   Intensidad  18485 non-null  float64\n",
      " 1   Magnitud    18485 non-null  float64\n",
      "dtypes: float64(2)\n",
      "memory usage: 289.0 KB\n"
     ]
    }
   ],
   "source": [
    "df_paises_sismos[[\"Intensidad\",\"Magnitud\",\"GAP\"]].to_csv(\"data.csv\")\n",
    "df_MAc_Ler = df_paises_sismos[[\"Intensidad\",\"Magnitud\"]]\n",
    "df_MAc_Ler.head(5)\n",
    "df_MAc_Ler.info()"
   ]
  },
  {
   "cell_type": "markdown",
   "metadata": {},
   "source": [
    "# K-Means"
   ]
  },
  {
   "cell_type": "markdown",
   "metadata": {},
   "source": [
    "## Se Evalua por Distancia media al Centroide y Silhouette"
   ]
  },
  {
   "cell_type": "code",
   "execution_count": 24,
   "metadata": {},
   "outputs": [],
   "source": [
    "import pandas as pd\n",
    "from sklearn.cluster import KMeans\n",
    "from sklearn.metrics import silhouette_samples, silhouette_score\n",
    "\n",
    "\n",
    "X = df_MAc_Ler\n",
    "\n",
    "# Preparamos una lista donde vamos a ir agregando las distancias medias\n",
    "Sum_of_squared_distances = []\n",
    "# Preparamos una lista donde vamos a ir agregando los valores medios de silhouette\n",
    "lista_sil = []\n",
    "# Fiteammos un modelo para cada numero de cluster que queremos testear\n",
    "K = np.arange(2,10)\n",
    "for k in K:\n",
    "    # Definimos y entrenamos el modelo\n",
    "    km = KMeans(n_clusters=k, n_init=10, random_state=42)\n",
    "    km = km.fit(X)\n",
    "    # Calculamos la distancia media y agregamos a la lista\n",
    "    distancia_total = km.inertia_\n",
    "    distancia_media = np.divide(distancia_total,X.shape[0])\n",
    "    Sum_of_squared_distances.append(distancia_media)\n",
    "    \n",
    "    # Tomamos las etiquetas\n",
    "    etiquetas = km.labels_\n",
    "    \n",
    "    # Calculamos el silhouette \n",
    "    valor_medio_sil = silhouette_score(X, etiquetas)\n",
    "    lista_sil.append(valor_medio_sil)"
   ]
  },
  {
   "cell_type": "code",
   "execution_count": 25,
   "metadata": {},
   "outputs": [
    {
     "data": {
      "image/png": "[encoded data removed]",
      "text/plain": [
       "<Figure size 1000x700 with 1 Axes>"
      ]
     },
     "metadata": {},
     "output_type": "display_data"
    }
   ],
   "source": [
    "import matplotlib.pyplot as plt\n",
    "\n",
    "plt.figure(figsize = (10,7))\n",
    "plt.plot(K, Sum_of_squared_distances, lw=3)\n",
    "plt.scatter(K, Sum_of_squared_distances,s=55,c='r')\n",
    "plt.xlabel('Cantidad de Clusters K')\n",
    "plt.ylabel('Inercia media')\n",
    "plt.title('Método del codo para identificar el K el Dataset Sismos  ')\n",
    "\n",
    "plt.show()"
   ]
  },
  {
   "attachments": {
    "image.png": {
     "image/png": "[encoded data removed]"
    }
   },
   "cell_type": "markdown",
   "metadata": {},
   "source": [
    "![image.png](attachment:image.png)"
   ]
  },
  {
   "cell_type": "code",
   "execution_count": 26,
   "metadata": {},
   "outputs": [
    {
     "data": {
      "text/html": [
       "<style>#sk-container-id-1 {color: black;background-color: white;}#sk-container-id-1 pre{padding: 0;}#sk-container-id-1 div.sk-toggleable {background-color: white;}#sk-container-id-1 label.sk-toggleable__label {cursor: pointer;display: block;width: 100%;margin-bottom: 0;padding: 0.3em;box-sizing: border-box;text-align: center;}#sk-container-id-1 label.sk-toggleable__label-arrow:before {content: \"▸\";float: left;margin-right: 0.25em;color: #696969;}#sk-container-id-1 label.sk-toggleable__label-arrow:hover:before {color: black;}#sk-container-id-1 div.sk-estimator:hover label.sk-toggleable__label-arrow:before {color: black;}#sk-container-id-1 div.sk-toggleable__content {max-height: 0;max-width: 0;overflow: hidden;text-align: left;background-color: #f0f8ff;}#sk-container-id-1 div.sk-toggleable__content pre {margin: 0.2em;color: black;border-radius: 0.25em;background-color: #f0f8ff;}#sk-container-id-1 input.sk-toggleable__control:checked~div.sk-toggleable__content {max-height: 200px;max-width: 100%;overflow: auto;}#sk-container-id-1 input.sk-toggleable__control:checked~label.sk-toggleable__label-arrow:before {content: \"▾\";}#sk-container-id-1 div.sk-estimator input.sk-toggleable__control:checked~label.sk-toggleable__label {background-color: #d4ebff;}#sk-container-id-1 div.sk-label input.sk-toggleable__control:checked~label.sk-toggleable__label {background-color: #d4ebff;}#sk-container-id-1 input.sk-hidden--visually {border: 0;clip: rect(1px 1px 1px 1px);clip: rect(1px, 1px, 1px, 1px);height: 1px;margin: -1px;overflow: hidden;padding: 0;position: absolute;width: 1px;}#sk-container-id-1 div.sk-estimator {font-family: monospace;background-color: #f0f8ff;border: 1px dotted black;border-radius: 0.25em;box-sizing: border-box;margin-bottom: 0.5em;}#sk-container-id-1 div.sk-estimator:hover {background-color: #d4ebff;}#sk-container-id-1 div.sk-parallel-item::after {content: \"\";width: 100%;border-bottom: 1px solid gray;flex-grow: 1;}#sk-container-id-1 div.sk-label:hover label.sk-toggleable__label {background-color: #d4ebff;}#sk-container-id-1 div.sk-serial::before {content: \"\";position: absolute;border-left: 1px solid gray;box-sizing: border-box;top: 0;bottom: 0;left: 50%;z-index: 0;}#sk-container-id-1 div.sk-serial {display: flex;flex-direction: column;align-items: center;background-color: white;padding-right: 0.2em;padding-left: 0.2em;position: relative;}#sk-container-id-1 div.sk-item {position: relative;z-index: 1;}#sk-container-id-1 div.sk-parallel {display: flex;align-items: stretch;justify-content: center;background-color: white;position: relative;}#sk-container-id-1 div.sk-item::before, #sk-container-id-1 div.sk-parallel-item::before {content: \"\";position: absolute;border-left: 1px solid gray;box-sizing: border-box;top: 0;bottom: 0;left: 50%;z-index: -1;}#sk-container-id-1 div.sk-parallel-item {display: flex;flex-direction: column;z-index: 1;position: relative;background-color: white;}#sk-container-id-1 div.sk-parallel-item:first-child::after {align-self: flex-end;width: 50%;}#sk-container-id-1 div.sk-parallel-item:last-child::after {align-self: flex-start;width: 50%;}#sk-container-id-1 div.sk-parallel-item:only-child::after {width: 0;}#sk-container-id-1 div.sk-dashed-wrapped {border: 1px dashed gray;margin: 0 0.4em 0.5em 0.4em;box-sizing: border-box;padding-bottom: 0.4em;background-color: white;}#sk-container-id-1 div.sk-label label {font-family: monospace;font-weight: bold;display: inline-block;line-height: 1.2em;}#sk-container-id-1 div.sk-label-container {text-align: center;}#sk-container-id-1 div.sk-container {/* jupyter's `normalize.less` sets `[hidden] { display: none; }` but bootstrap.min.css set `[hidden] { display: none !important; }` so we also need the `!important` here to be able to override the default hidden behavior on the sphinx rendered scikit-learn.org. See: https://github.com/scikit-learn/scikit-learn/issues/21755 */display: inline-block !important;position: relative;}#sk-container-id-1 div.sk-text-repr-fallback {display: none;}</style><div id=\"sk-container-id-1\" class=\"sk-top-container\"><div class=\"sk-text-repr-fallback\"><pre>KMeans(n_clusters=5, n_init=10, random_state=1)</pre><b>In a Jupyter environment, please rerun this cell to show the HTML representation or trust the notebook. <br />On GitHub, the HTML representation is unable to render, please try loading this page with nbviewer.org.</b></div><div class=\"sk-container\" hidden><div class=\"sk-item\"><div class=\"sk-estimator sk-toggleable\"><input class=\"sk-toggleable__control sk-hidden--visually\" id=\"sk-estimator-id-1\" type=\"checkbox\" checked><label for=\"sk-estimator-id-1\" class=\"sk-toggleable__label sk-toggleable__label-arrow\">KMeans</label><div class=\"sk-toggleable__content\"><pre>KMeans(n_clusters=5, n_init=10, random_state=1)</pre></div></div></div></div></div>"
      ],
      "text/plain": [
       "KMeans(n_clusters=5, n_init=10, random_state=1)"
      ]
     },
     "execution_count": 26,
     "metadata": {},
     "output_type": "execute_result"
    }
   ],
   "source": [
    "import pandas as pd\n",
    "from sklearn.cluster import KMeans\n",
    "\n",
    "\n",
    "\n",
    "# Crea el modelo de clustering con K-Means\n",
    "k = 5  # Número de clústeres que deseas obtener\n",
    "kmeans = KMeans(n_clusters=k, n_init=10, random_state=1)\n",
    "kmeans.fit(df_MAc_Ler)\n"
   ]
  },
  {
   "cell_type": "code",
   "execution_count": 27,
   "metadata": {},
   "outputs": [
    {
     "name": "stdout",
     "output_type": "stream",
     "text": [
      "       Intensidad  Magnitud  cluster_label\n",
      "0             4.3      4.50              4\n",
      "1             2.0      4.50              1\n",
      "2             2.0      5.00              1\n",
      "3             4.3      5.00              4\n",
      "4             6.7      6.00              3\n",
      "...           ...       ...            ...\n",
      "18480         4.2      2.79              0\n",
      "18481         4.3      2.90              0\n",
      "18482         3.5      3.24              0\n",
      "18483         3.8      4.50              4\n",
      "18484         4.2      2.76              0\n",
      "\n",
      "[18485 rows x 3 columns]\n"
     ]
    }
   ],
   "source": [
    "\n",
    "# Asigna las etiquetas de los clústeres a cada instancia en el dataframe utilizando \"loc\"\n",
    "pd.options.mode.chained_assignment = None\n",
    "df_MAc_Ler.loc[:, 'cluster_label'] = kmeans.labels_.reshape(-1, 1)\n",
    "\n",
    "# Muestra el dataframe con las etiquetas de clúster asignadas\n",
    "print(df_MAc_Ler)\n"
   ]
  },
  {
   "cell_type": "code",
   "execution_count": 28,
   "metadata": {},
   "outputs": [
    {
     "data": {
      "text/html": [
       "<div>\n",
       "<style scoped>\n",
       "    .dataframe tbody tr th:only-of-type {\n",
       "        vertical-align: middle;\n",
       "    }\n",
       "\n",
       "    .dataframe tbody tr th {\n",
       "        vertical-align: top;\n",
       "    }\n",
       "\n",
       "    .dataframe thead th {\n",
       "        text-align: right;\n",
       "    }\n",
       "</style>\n",
       "<table border=\"1\" class=\"dataframe\">\n",
       "  <thead>\n",
       "    <tr style=\"text-align: right;\">\n",
       "      <th></th>\n",
       "      <th>Intensidad</th>\n",
       "      <th>Magnitud</th>\n",
       "      <th>cluster_label</th>\n",
       "      <th>Niv-Mag</th>\n",
       "      <th>Niv-Inten</th>\n",
       "    </tr>\n",
       "  </thead>\n",
       "  <tbody>\n",
       "    <tr>\n",
       "      <th>0</th>\n",
       "      <td>4.3</td>\n",
       "      <td>4.50</td>\n",
       "      <td>4</td>\n",
       "      <td>Medio Alto</td>\n",
       "      <td>Moderado</td>\n",
       "    </tr>\n",
       "    <tr>\n",
       "      <th>1</th>\n",
       "      <td>2.0</td>\n",
       "      <td>4.50</td>\n",
       "      <td>1</td>\n",
       "      <td>Medio Alto</td>\n",
       "      <td>Bajo</td>\n",
       "    </tr>\n",
       "    <tr>\n",
       "      <th>2</th>\n",
       "      <td>2.0</td>\n",
       "      <td>5.00</td>\n",
       "      <td>1</td>\n",
       "      <td>Medio Alto</td>\n",
       "      <td>Bajo</td>\n",
       "    </tr>\n",
       "    <tr>\n",
       "      <th>3</th>\n",
       "      <td>4.3</td>\n",
       "      <td>5.00</td>\n",
       "      <td>4</td>\n",
       "      <td>Medio Alto</td>\n",
       "      <td>Moderado</td>\n",
       "    </tr>\n",
       "    <tr>\n",
       "      <th>4</th>\n",
       "      <td>6.7</td>\n",
       "      <td>6.00</td>\n",
       "      <td>3</td>\n",
       "      <td>Medio Alto</td>\n",
       "      <td>Alto</td>\n",
       "    </tr>\n",
       "    <tr>\n",
       "      <th>...</th>\n",
       "      <td>...</td>\n",
       "      <td>...</td>\n",
       "      <td>...</td>\n",
       "      <td>...</td>\n",
       "      <td>...</td>\n",
       "    </tr>\n",
       "    <tr>\n",
       "      <th>18480</th>\n",
       "      <td>4.2</td>\n",
       "      <td>2.79</td>\n",
       "      <td>0</td>\n",
       "      <td>Medio Bajo</td>\n",
       "      <td>Moderado</td>\n",
       "    </tr>\n",
       "    <tr>\n",
       "      <th>18481</th>\n",
       "      <td>4.3</td>\n",
       "      <td>2.90</td>\n",
       "      <td>0</td>\n",
       "      <td>Medio Bajo</td>\n",
       "      <td>Moderado</td>\n",
       "    </tr>\n",
       "    <tr>\n",
       "      <th>18482</th>\n",
       "      <td>3.5</td>\n",
       "      <td>3.24</td>\n",
       "      <td>0</td>\n",
       "      <td>Medio Bajo</td>\n",
       "      <td>Moderado</td>\n",
       "    </tr>\n",
       "    <tr>\n",
       "      <th>18483</th>\n",
       "      <td>3.8</td>\n",
       "      <td>4.50</td>\n",
       "      <td>4</td>\n",
       "      <td>Medio Alto</td>\n",
       "      <td>Moderado</td>\n",
       "    </tr>\n",
       "    <tr>\n",
       "      <th>18484</th>\n",
       "      <td>4.2</td>\n",
       "      <td>2.76</td>\n",
       "      <td>0</td>\n",
       "      <td>Medio Bajo</td>\n",
       "      <td>Moderado</td>\n",
       "    </tr>\n",
       "  </tbody>\n",
       "</table>\n",
       "<p>18485 rows × 5 columns</p>\n",
       "</div>"
      ],
      "text/plain": [
       "       Intensidad  Magnitud  cluster_label     Niv-Mag Niv-Inten\n",
       "0             4.3      4.50              4  Medio Alto  Moderado\n",
       "1             2.0      4.50              1  Medio Alto      Bajo\n",
       "2             2.0      5.00              1  Medio Alto      Bajo\n",
       "3             4.3      5.00              4  Medio Alto  Moderado\n",
       "4             6.7      6.00              3  Medio Alto      Alto\n",
       "...           ...       ...            ...         ...       ...\n",
       "18480         4.2      2.79              0  Medio Bajo  Moderado\n",
       "18481         4.3      2.90              0  Medio Bajo  Moderado\n",
       "18482         3.5      3.24              0  Medio Bajo  Moderado\n",
       "18483         3.8      4.50              4  Medio Alto  Moderado\n",
       "18484         4.2      2.76              0  Medio Bajo  Moderado\n",
       "\n",
       "[18485 rows x 5 columns]"
      ]
     },
     "execution_count": 28,
     "metadata": {},
     "output_type": "execute_result"
    }
   ],
   "source": [
    "mes_letras= [\n",
    "    df_paises_sismos[\"Magnitud\"] <= 4,\n",
    "    df_paises_sismos[\"Magnitud\"] > 4\n",
    "    ]\n",
    "opciones_mes_letras = [\"Medio Bajo\", \"Medio Alto\"]\n",
    "\n",
    "df_MAc_Ler[\"Niv-Mag\"] = np.select(mes_letras, opciones_mes_letras)\n",
    "\n",
    "mes_letras= [\n",
    "    df_paises_sismos[\"Intensidad\"] <=3,\n",
    "    df_paises_sismos[\"Intensidad\"] <=6,\n",
    "    df_paises_sismos[\"Intensidad\"] > 6]\n",
    "opciones_mes_letras = [\"Bajo\", \"Moderado\", \"Alto\"]\n",
    "df_MAc_Ler[\"Niv-Inten\"] = np.select(mes_letras, opciones_mes_letras)\n",
    "\n",
    "df_MAc_Ler\n"
   ]
  },
  {
   "cell_type": "code",
   "execution_count": 29,
   "metadata": {},
   "outputs": [
    {
     "data": {
      "image/png": "[encoded data removed]",
      "text/plain": [
       "<Figure size 800x600 with 1 Axes>"
      ]
     },
     "metadata": {},
     "output_type": "display_data"
    }
   ],
   "source": [
    "# Gráfica de CLÚSTERES\n",
    "import matplotlib.pyplot as plt\n",
    "\n",
    "# Variables que deseas visualizar en el diagrama de dispersión\n",
    "x_variable = 'Intensidad'\n",
    "y_variable = 'Magnitud'\n",
    "\n",
    "# Colores para cada clúster\n",
    "#colors = ['red', 'green', 'blue', 'orange' ]\n",
    "colors = ['red', 'green', 'blue', 'orange', 'purple', \"black\", \"Brown\", \"Pink\", \"Yellow\",\"Gray\" ]\n",
    "\n",
    "# Crear el gráfico de dispersión\n",
    "plt.figure(figsize=(8, 6))\n",
    "for cluster_label in range(k):\n",
    "    cluster_data = df_MAc_Ler[df_MAc_Ler['cluster_label'] == cluster_label]\n",
    "    plt.scatter(cluster_data[x_variable], cluster_data[y_variable], color=colors[cluster_label], label=f'Cluster {cluster_label}')\n",
    "\n",
    "\n",
    "# Mostrar los centroides\n",
    "plt.scatter(kmeans.cluster_centers_[:, 0], kmeans.cluster_centers_[:, 1], color='black', marker='x', s=200, linewidths=3, label='Centroides')\n",
    "\n",
    "# Configurar el título y las etiquetas de los ejes\n",
    "plt.title('Resultados del Clustering con K-Means')\n",
    "plt.xlabel(x_variable)\n",
    "plt.ylabel(y_variable)\n",
    "\n",
    "# Mostrar la leyenda\n",
    "plt.legend()\n",
    "\n",
    "# Mostrar el gráfico\n",
    "plt.show()"
   ]
  },
  {
   "cell_type": "code",
   "execution_count": 30,
   "metadata": {},
   "outputs": [
    {
     "name": "stdout",
     "output_type": "stream",
     "text": [
      "-------------------------------------------\n",
      "        Intensidad     Magnitud  cluster_label\n",
      "count  6168.000000  6168.000000         6168.0\n",
      "mean      3.618466     3.027822            0.0\n",
      "std       0.518371     0.365740            0.0\n",
      "min       2.800000     2.500000            0.0\n",
      "25%       3.100000     2.700000            0.0\n",
      "50%       3.400000     2.980000            0.0\n",
      "75%       3.900000     3.300000            0.0\n",
      "max       5.800000     3.970000            0.0\n"
     ]
    },
    {
     "data": {
      "text/plain": [
       "'\\nLos sismos en este rango tienen una intensidad perceptible \\nque va desde niveles bajos hasta niveles ampliamente perceptibles en el área afectada. \\nPueden provocar daños menores en estructuras, \\ncomo grietas en los muros y caída de revestimientos, \\ny ser percibidos por un número variable de personas, \\ndesde unas pocas en reposo y en posición tranquila \\nhasta todas las personas en el área afectada.\\n'"
      ]
     },
     "execution_count": 30,
     "metadata": {},
     "output_type": "execute_result"
    }
   ],
   "source": [
    "condicion = df_MAc_Ler[\"cluster_label\"] == 0\n",
    "filas_cumplen_condicion = df_MAc_Ler[condicion]\n",
    "\n",
    "print('-------------------------------------------')\n",
    "print(filas_cumplen_condicion.describe())\n",
    "\n",
    "\"\"\"\n",
    "Los sismos en este rango tienen una intensidad perceptible \n",
    "que va desde niveles bajos hasta niveles ampliamente perceptibles en el área afectada. \n",
    "Pueden provocar daños menores en estructuras, \n",
    "como grietas en los muros y caída de revestimientos, \n",
    "y ser percibidos por un número variable de personas, \n",
    "desde unas pocas en reposo y en posición tranquila \n",
    "hasta todas las personas en el área afectada.\n",
    "\"\"\""
   ]
  },
  {
   "cell_type": "code",
   "execution_count": 31,
   "metadata": {},
   "outputs": [
    {
     "name": "stdout",
     "output_type": "stream",
     "text": [
      "-------------------------------------------\n",
      "        Intensidad     Magnitud  cluster_label\n",
      "count  2078.000000  2078.000000         2078.0\n",
      "mean      1.236381     4.361941            1.0\n",
      "std       0.536294     0.492691            0.0\n",
      "min       0.000000     2.700000            1.0\n",
      "25%       1.000000     4.200000            1.0\n",
      "50%       1.000000     4.400000            1.0\n",
      "75%       2.000000     4.600000            1.0\n",
      "max       2.300000     6.000000            1.0\n"
     ]
    },
    {
     "data": {
      "text/plain": [
       "'\\nLos sismos en este rango tienen una intensidad que generalmente no se percibe, \\nexcepto en condiciones muy favorables, \\nhasta niveles que a menudo se perciben, \\npero rara vez causan daños. \\nEn términos de magnitud, \\nvan desde temblores que se sienten como vibraciones menores \\nhasta sismos que pueden causar daños menores en estructuras.\\n'"
      ]
     },
     "execution_count": 31,
     "metadata": {},
     "output_type": "execute_result"
    }
   ],
   "source": [
    "condicion = df_MAc_Ler[\"cluster_label\"] == 1\n",
    "filas_cumplen_condicion = df_MAc_Ler[condicion]\n",
    "print('-------------------------------------------')\n",
    "print(filas_cumplen_condicion.describe())\n",
    "\n",
    "\"\"\"\n",
    "Los sismos en este rango tienen una intensidad que generalmente no se percibe, \n",
    "excepto en condiciones muy favorables, \n",
    "hasta niveles que a menudo se perciben, \n",
    "pero rara vez causan daños. \n",
    "En términos de magnitud, \n",
    "van desde temblores que se sienten como vibraciones menores \n",
    "hasta sismos que pueden causar daños menores en estructuras.\n",
    "\"\"\""
   ]
  },
  {
   "cell_type": "code",
   "execution_count": 32,
   "metadata": {},
   "outputs": [
    {
     "name": "stdout",
     "output_type": "stream",
     "text": [
      "-------------------------------------------\n",
      "        Intensidad     Magnitud  cluster_label\n",
      "count  7249.000000  7249.000000         7249.0\n",
      "mean      2.081860     2.877833            2.0\n",
      "std       0.507796     0.309359            0.0\n",
      "min       0.000000     2.500000            2.0\n",
      "25%       2.000000     2.620000            2.0\n",
      "50%       2.100000     2.800000            2.0\n",
      "75%       2.200000     3.060000            2.0\n",
      "max       2.800000     4.000000            2.0\n"
     ]
    },
    {
     "data": {
      "text/plain": [
       "'\\n\\nlos sismos en este rango tienen una intensidad que generalmente no se percibe, \\npero que en condiciones favorables puede ser percibida por unas pocas personas en reposo \\ny en posición tranquila. \\nAdemás, la magnitud de estos sismos va desde temblores de vibración menor \\nhasta la capacidad de causar una gran cantidad de daños en áreas habitadas.\\n\\n'"
      ]
     },
     "execution_count": 32,
     "metadata": {},
     "output_type": "execute_result"
    }
   ],
   "source": [
    "condicion = df_MAc_Ler[\"cluster_label\"] == 2\n",
    "filas_cumplen_condicion = df_MAc_Ler[condicion]\n",
    "\n",
    "print('-------------------------------------------')\n",
    "print(filas_cumplen_condicion.describe())\n",
    "\n",
    "\"\"\"\n",
    "\n",
    "los sismos en este rango tienen una intensidad que generalmente no se percibe, \n",
    "pero que en condiciones favorables puede ser percibida por unas pocas personas en reposo \n",
    "y en posición tranquila. \n",
    "Además, la magnitud de estos sismos va desde temblores de vibración menor \n",
    "hasta la capacidad de causar una gran cantidad de daños en áreas habitadas.\n",
    "\n",
    "\"\"\"\n"
   ]
  },
  {
   "cell_type": "code",
   "execution_count": 33,
   "metadata": {},
   "outputs": [
    {
     "name": "stdout",
     "output_type": "stream",
     "text": [
      "-------------------------------------------\n",
      "       Intensidad    Magnitud  cluster_label\n",
      "count  900.000000  900.000000          900.0\n",
      "mean     5.549333    4.895089            3.0\n",
      "std      0.914455    0.947298            0.0\n",
      "min      4.500000    2.550000            3.0\n",
      "25%      4.900000    4.200000            3.0\n",
      "50%      5.300000    4.900000            3.0\n",
      "75%      5.900000    5.450000            3.0\n",
      "max      9.100000    9.100000            3.0\n"
     ]
    },
    {
     "data": {
      "text/plain": [
       "'\\nlos sismos en este rango tienen una intensidad que a menudo se percibe \\ny puede causar una gran cantidad de daños en áreas habitadas, \\njunto con una magnitud que va desde temblores menores \\nhasta la capacidad de causar daños significativos en estructuras.\\n'"
      ]
     },
     "execution_count": 33,
     "metadata": {},
     "output_type": "execute_result"
    }
   ],
   "source": [
    "condicion = df_MAc_Ler[\"cluster_label\"] == 3\n",
    "filas_cumplen_condicion = df_MAc_Ler[condicion]\n",
    "print('-------------------------------------------')\n",
    "print(filas_cumplen_condicion.describe())\n",
    "\n",
    "\"\"\"\n",
    "los sismos en este rango tienen una intensidad que a menudo se percibe \n",
    "y puede causar una gran cantidad de daños en áreas habitadas, \n",
    "junto con una magnitud que va desde temblores menores \n",
    "hasta la capacidad de causar daños significativos en estructuras.\n",
    "\"\"\""
   ]
  },
  {
   "cell_type": "code",
   "execution_count": 34,
   "metadata": {},
   "outputs": [
    {
     "name": "stdout",
     "output_type": "stream",
     "text": [
      "-------------------------------------------\n",
      "        Intensidad     Magnitud  cluster_label\n",
      "count  2090.000000  2090.000000         2090.0\n",
      "mean      3.424354     4.690048            4.0\n",
      "std       0.550003     0.520009            0.0\n",
      "min       2.200000     3.790000            4.0\n",
      "25%       3.100000     4.300000            4.0\n",
      "50%       3.400000     4.600000            4.0\n",
      "75%       3.800000     5.000000            4.0\n",
      "max       4.500000     6.700000            4.0\n"
     ]
    },
    {
     "data": {
      "text/plain": [
       "'\\nlos sismos en este rango tienen una intensidad \\nque puede causar daños significativos en áreas más grandes \\ny una magnitud que va desde la capacidad de causar daños significativos\\nen estructuras hasta la posibilidad de ocasionar daños extensos \\ne incluso colapso total de edificios.\\n'"
      ]
     },
     "execution_count": 34,
     "metadata": {},
     "output_type": "execute_result"
    }
   ],
   "source": [
    "condicion = df_MAc_Ler[\"cluster_label\"] == 4\n",
    "filas_cumplen_condicion = df_MAc_Ler[condicion]\n",
    "\n",
    "\n",
    "print('-------------------------------------------')\n",
    "print(filas_cumplen_condicion.describe())\n",
    "\n",
    "\"\"\"\n",
    "los sismos en este rango tienen una intensidad \n",
    "que puede causar daños significativos en áreas más grandes \n",
    "y una magnitud que va desde la capacidad de causar daños significativos\n",
    "en estructuras hasta la posibilidad de ocasionar daños extensos \n",
    "e incluso colapso total de edificios.\n",
    "\"\"\""
   ]
  },
  {
   "cell_type": "code",
   "execution_count": 35,
   "metadata": {},
   "outputs": [],
   "source": [
    "import pickle\n",
    "\n",
    "# Guarda el modelo en un archivo\n",
    "filename = 'kmeans_model.pkl'\n",
    "with open(filename, 'wb') as file:\n",
    "    pickle.dump(kmeans, file)\n"
   ]
  },
  {
   "cell_type": "markdown",
   "metadata": {},
   "source": [
    "Le pasmos un archivo csv para generar la columna con el nuevo cluster"
   ]
  },
  {
   "cell_type": "code",
   "execution_count": 36,
   "metadata": {},
   "outputs": [
    {
     "name": "stdout",
     "output_type": "stream",
     "text": [
      "[4 1 1 ... 0 4 0]\n"
     ]
    },
    {
     "data": {
      "text/html": [
       "<div>\n",
       "<style scoped>\n",
       "    .dataframe tbody tr th:only-of-type {\n",
       "        vertical-align: middle;\n",
       "    }\n",
       "\n",
       "    .dataframe tbody tr th {\n",
       "        vertical-align: top;\n",
       "    }\n",
       "\n",
       "    .dataframe thead th {\n",
       "        text-align: right;\n",
       "    }\n",
       "</style>\n",
       "<table border=\"1\" class=\"dataframe\">\n",
       "  <thead>\n",
       "    <tr style=\"text-align: right;\">\n",
       "      <th></th>\n",
       "      <th>Intensidad</th>\n",
       "      <th>Magnitud</th>\n",
       "      <th>GAP</th>\n",
       "      <th>cluster_label</th>\n",
       "      <th>cluster_label1</th>\n",
       "    </tr>\n",
       "  </thead>\n",
       "  <tbody>\n",
       "    <tr>\n",
       "      <th>0</th>\n",
       "      <td>4.3</td>\n",
       "      <td>4.50</td>\n",
       "      <td>65.0</td>\n",
       "      <td>4</td>\n",
       "      <td>4</td>\n",
       "    </tr>\n",
       "    <tr>\n",
       "      <th>1</th>\n",
       "      <td>2.0</td>\n",
       "      <td>4.50</td>\n",
       "      <td>65.0</td>\n",
       "      <td>1</td>\n",
       "      <td>1</td>\n",
       "    </tr>\n",
       "    <tr>\n",
       "      <th>2</th>\n",
       "      <td>2.0</td>\n",
       "      <td>5.00</td>\n",
       "      <td>31.0</td>\n",
       "      <td>1</td>\n",
       "      <td>1</td>\n",
       "    </tr>\n",
       "    <tr>\n",
       "      <th>3</th>\n",
       "      <td>4.3</td>\n",
       "      <td>5.00</td>\n",
       "      <td>65.0</td>\n",
       "      <td>4</td>\n",
       "      <td>4</td>\n",
       "    </tr>\n",
       "    <tr>\n",
       "      <th>4</th>\n",
       "      <td>6.7</td>\n",
       "      <td>6.00</td>\n",
       "      <td>36.0</td>\n",
       "      <td>3</td>\n",
       "      <td>3</td>\n",
       "    </tr>\n",
       "    <tr>\n",
       "      <th>...</th>\n",
       "      <td>...</td>\n",
       "      <td>...</td>\n",
       "      <td>...</td>\n",
       "      <td>...</td>\n",
       "      <td>...</td>\n",
       "    </tr>\n",
       "    <tr>\n",
       "      <th>18480</th>\n",
       "      <td>4.2</td>\n",
       "      <td>2.79</td>\n",
       "      <td>51.0</td>\n",
       "      <td>0</td>\n",
       "      <td>0</td>\n",
       "    </tr>\n",
       "    <tr>\n",
       "      <th>18481</th>\n",
       "      <td>4.3</td>\n",
       "      <td>2.90</td>\n",
       "      <td>98.0</td>\n",
       "      <td>0</td>\n",
       "      <td>0</td>\n",
       "    </tr>\n",
       "    <tr>\n",
       "      <th>18482</th>\n",
       "      <td>3.5</td>\n",
       "      <td>3.24</td>\n",
       "      <td>43.0</td>\n",
       "      <td>0</td>\n",
       "      <td>0</td>\n",
       "    </tr>\n",
       "    <tr>\n",
       "      <th>18483</th>\n",
       "      <td>3.8</td>\n",
       "      <td>4.50</td>\n",
       "      <td>71.0</td>\n",
       "      <td>4</td>\n",
       "      <td>4</td>\n",
       "    </tr>\n",
       "    <tr>\n",
       "      <th>18484</th>\n",
       "      <td>4.2</td>\n",
       "      <td>2.76</td>\n",
       "      <td>50.0</td>\n",
       "      <td>0</td>\n",
       "      <td>0</td>\n",
       "    </tr>\n",
       "  </tbody>\n",
       "</table>\n",
       "<p>18485 rows × 5 columns</p>\n",
       "</div>"
      ],
      "text/plain": [
       "       Intensidad  Magnitud   GAP  cluster_label  cluster_label1\n",
       "0             4.3      4.50  65.0              4               4\n",
       "1             2.0      4.50  65.0              1               1\n",
       "2             2.0      5.00  31.0              1               1\n",
       "3             4.3      5.00  65.0              4               4\n",
       "4             6.7      6.00  36.0              3               3\n",
       "...           ...       ...   ...            ...             ...\n",
       "18480         4.2      2.79  51.0              0               0\n",
       "18481         4.3      2.90  98.0              0               0\n",
       "18482         3.5      3.24  43.0              0               0\n",
       "18483         3.8      4.50  71.0              4               4\n",
       "18484         4.2      2.76  50.0              0               0\n",
       "\n",
       "[18485 rows x 5 columns]"
      ]
     },
     "execution_count": 36,
     "metadata": {},
     "output_type": "execute_result"
    }
   ],
   "source": [
    "import pandas as pd\n",
    "import pickle\n",
    "\n",
    "# Carga el modelo desde el archivo\n",
    "filename = 'kmeans_model.pkl'\n",
    "with open(filename, 'rb') as file:\n",
    "    kmeans_loaded = pickle.load(file)\n",
    "\n",
    "# Carga los nuevos datos desde un archivo CSV\n",
    "nuevos_datos = pd.read_csv('data.csv')\n",
    "\n",
    "# Elimina la columna \"Unnamed: 0\" de los nuevos datos\n",
    "nuevos_datos = nuevos_datos.drop(\"Unnamed: 0\", axis=1)\n",
    "\n",
    "# Aplica el modelo a los nuevos datos\n",
    "labels_pred = kmeans_loaded.predict(nuevos_datos[[\"Intensidad\",\"Magnitud\"]])\n",
    "\n",
    "# Imprime las etiquetas predichas\n",
    "print(labels_pred)\n",
    "nuevos_datos[\"cluster_label\"] = labels_pred\n",
    "nuevos_datos[\"cluster_label1\"] = df_MAc_Ler[\"cluster_label\"]\n",
    "nuevos_datos\n"
   ]
  },
  {
   "cell_type": "markdown",
   "metadata": {},
   "source": [
    "Le pasamos simplemente datos nuevos de Intensidad y Magnitud"
   ]
  },
  {
   "cell_type": "code",
   "execution_count": 37,
   "metadata": {},
   "outputs": [
    {
     "name": "stdout",
     "output_type": "stream",
     "text": [
      "[4]\n"
     ]
    }
   ],
   "source": [
    "import pandas as pd\n",
    "import pickle\n",
    "\n",
    "# Carga el modelo desde el archivo\n",
    "filename = 'kmeans_model.pkl'\n",
    "filename = \"../Machine_Learning/kmeans_model.pkl\"\n",
    "with open(filename, 'rb') as file:\n",
    "    kmeans_loaded = pickle.load(file)\n",
    "\n",
    "# Crea un DataFrame con los nuevos datos\n",
    "nuevos_datos = pd.DataFrame({'Intensidad': [4.3], 'Magnitud': [4.5]})\n",
    "\n",
    "# Aplica el modelo a los nuevos datos\n",
    "labels_pred = kmeans_loaded.predict(nuevos_datos)\n",
    "\n",
    "# Imprime las etiquetas predichas\n",
    "print(labels_pred)"
   ]
  },
  {
   "cell_type": "markdown",
   "metadata": {},
   "source": [
    "# https://mlapi2.onrender.com/clasificar_sismo/7.2/6.8"
   ]
  },
  {
   "cell_type": "code",
   "execution_count": 38,
   "metadata": {},
   "outputs": [
    {
     "name": "stdout",
     "output_type": "stream",
     "text": [
      "{\"clasificacion\":4,\"texto\":\"los sismos en este rango tienen una intensidad \\nque puede causar daños significativos en áreas más grandes \\ny una magnitud que va desde la capacidad de causar daños significativos\\n en estructuras hasta la posibilidad de ocasionar daños extensos \\n e incluso colapso total de edificios.\"}\n"
     ]
    }
   ],
   "source": [
    "import requests\n",
    "\n",
    "\n",
    "url = \"https://mlapi2.onrender.com/clasificar_sismo/7.2/6.8\"\n",
    "\n",
    "# Valores de magnitud e intensidad que deseas enviar\n",
    "magnitud = 7.2\n",
    "intensidad = 6.8\n",
    "\n",
    "# Construir la URL con los valores proporcionados\n",
    "url_con_valores = f\"https://mlapi2.onrender.com/clasificar_sismo/{magnitud}/{intensidad}\"\n",
    "\n",
    "# Realizar la solicitud GET\n",
    "response = requests.get(url_con_valores)\n",
    "\n",
    "# Obtener la respuesta del servidor\n",
    "respuesta = response.text\n",
    "\n",
    "# Mostrar la respuesta obtenida\n",
    "print(respuesta)\n"
   ]
  },
  {
   "cell_type": "code",
   "execution_count": 39,
   "metadata": {},
   "outputs": [],
   "source": [
    "import requests\n",
    "\n",
    "def obtener_respuesta():\n",
    "    # Solicitar al usuario que ingrese los valores de magnitud e intensidad\n",
    "    magnitud = float(input(\"Ingresa la magnitud: \"))\n",
    "    intensidad = float(input(\"Ingresa la intensidad: \"))\n",
    "\n",
    "    # Construir la URL con los valores proporcionados\n",
    "    url_con_valores = f\"https://mlapi2.onrender.com/clasificar_sismo/{magnitud}/{intensidad}\"\n",
    "\n",
    "    # Realizar la solicitud GET\n",
    "    response = requests.get(url_con_valores)\n",
    "\n",
    "    # Obtener la respuesta del servidor\n",
    "    respuesta = response.text\n",
    "\n",
    "    # Mostrar la respuesta obtenida\n",
    "    print(respuesta)\n",
    "\n",
    "obtener_respuesta()"
   ]
  }
 ],
 "metadata": {
  "kernelspec": {
   "display_name": "Python 3",
   "language": "python",
   "name": "python3"
  },
  "language_info": {
   "codemirror_mode": {
    "name": "ipython",
    "version": 3
   },
   "file_extension": ".py",
   "mimetype": "text/x-python",
   "name": "python",
   "nbconvert_exporter": "python",
   "pygments_lexer": "ipython3",
   "version": "3.11.3"
  },
  "orig_nbformat": 4
 },
 "nbformat": 4,
 "nbformat_minor": 2
}
